{
 "cells": [
  {
   "cell_type": "code",
   "execution_count": 2,
   "id": "8ab200b2-303c-45e4-80e9-3f6853c675df",
   "metadata": {},
   "outputs": [],
   "source": [
    "import pandas as pd"
   ]
  },
  {
   "cell_type": "code",
   "execution_count": 4,
   "id": "ec5af41f-bd14-498d-ac28-27623119e39d",
   "metadata": {},
   "outputs": [],
   "source": [
    "data=pd.read_csv(\"updated_pollution_dataset.csv\")"
   ]
  },
  {
   "cell_type": "code",
   "execution_count": 5,
   "id": "0647a74c-36cc-49ef-a33e-e2b7ad3cea37",
   "metadata": {},
   "outputs": [
    {
     "data": {
      "text/plain": [
       "Index(['Temperature', 'Humidity', 'PM2.5', 'PM10', 'NO2', 'SO2', 'CO',\n",
       "       'Proximity_to_Industrial_Areas', 'Population_Density', 'Air Quality'],\n",
       "      dtype='object')"
      ]
     },
     "execution_count": 5,
     "metadata": {},
     "output_type": "execute_result"
    }
   ],
   "source": [
    "data.columns"
   ]
  },
  {
   "cell_type": "code",
   "execution_count": 6,
   "id": "d6033129-75d5-4938-9140-d7e240bea5f7",
   "metadata": {},
   "outputs": [
    {
     "data": {
      "text/plain": [
       "(5000, 10)"
      ]
     },
     "execution_count": 6,
     "metadata": {},
     "output_type": "execute_result"
    }
   ],
   "source": [
    "data.shape"
   ]
  },
  {
   "cell_type": "code",
   "execution_count": 7,
   "id": "33711e94-0434-41cb-8e12-673d64de6fb5",
   "metadata": {},
   "outputs": [
    {
     "data": {
      "text/plain": [
       "<bound method DataFrame.info of       Temperature  Humidity  PM2.5   PM10   NO2   SO2    CO  \\\n",
       "0            29.8      59.1    5.2   17.9  18.9   9.2  1.72   \n",
       "1            28.3      75.6    2.3   12.2  30.8   9.7  1.64   \n",
       "2            23.1      74.7   26.7   33.8  24.4  12.6  1.63   \n",
       "3            27.1      39.1    6.1    6.3  13.5   5.3  1.15   \n",
       "4            26.5      70.7    6.9   16.0  21.9   5.6  1.01   \n",
       "...           ...       ...    ...    ...   ...   ...   ...   \n",
       "4995         40.6      74.1  116.0  126.7  45.5  25.7  2.11   \n",
       "4996         28.1      96.9    6.9   25.0  25.3  10.8  1.54   \n",
       "4997         25.9      78.2   14.2   22.1  34.8   7.8  1.63   \n",
       "4998         25.3      44.4   21.4   29.0  23.7   5.7  0.89   \n",
       "4999         24.1      77.9   81.7   94.3  23.2  10.5  1.38   \n",
       "\n",
       "      Proximity_to_Industrial_Areas  Population_Density Air Quality  \n",
       "0                               6.3                 319    Moderate  \n",
       "1                               6.0                 611    Moderate  \n",
       "2                               5.2                 619    Moderate  \n",
       "3                              11.1                 551        Good  \n",
       "4                              12.7                 303        Good  \n",
       "...                             ...                 ...         ...  \n",
       "4995                            2.8                 765   Hazardous  \n",
       "4996                            5.7                 709    Moderate  \n",
       "4997                            9.6                 379    Moderate  \n",
       "4998                           11.6                 241        Good  \n",
       "4999                            8.3                 461    Moderate  \n",
       "\n",
       "[5000 rows x 10 columns]>"
      ]
     },
     "execution_count": 7,
     "metadata": {},
     "output_type": "execute_result"
    }
   ],
   "source": [
    "data.info"
   ]
  },
  {
   "cell_type": "code",
   "execution_count": 8,
   "id": "cbf3ab17-9d94-4a5e-8cd5-c0c85a194101",
   "metadata": {},
   "outputs": [
    {
     "data": {
      "text/plain": [
       "0       29.8\n",
       "1       28.3\n",
       "2       23.1\n",
       "3       27.1\n",
       "4       26.5\n",
       "        ... \n",
       "4995    40.6\n",
       "4996    28.1\n",
       "4997    25.9\n",
       "4998    25.3\n",
       "4999    24.1\n",
       "Name: Temperature, Length: 5000, dtype: float64"
      ]
     },
     "execution_count": 8,
     "metadata": {},
     "output_type": "execute_result"
    }
   ],
   "source": [
    "data[\"Temperature\"]"
   ]
  },
  {
   "cell_type": "code",
   "execution_count": 9,
   "id": "8abee68d-dfc3-4ae5-83ed-851a8cbac691",
   "metadata": {},
   "outputs": [],
   "source": [
    "from matplotlib import pyplot as plt"
   ]
  },
  {
   "cell_type": "code",
   "execution_count": 11,
   "id": "abcbbb4e-7aa1-4942-9bef-32bcc946cee7",
   "metadata": {},
   "outputs": [
    {
     "data": {
      "image/png": "[encoded data removed]",
      "text/plain": [
       "<Figure size 640x480 with 1 Axes>"
      ]
     },
     "metadata": {},
     "output_type": "display_data"
    }
   ],
   "source": [
    "plt.hist(data[\"Temperature\"])\n",
    "plt.show()\n",
    "         "
   ]
  },
  {
   "cell_type": "code",
   "execution_count": 12,
   "id": "89273e52-70bc-4232-adf6-bceffe1071c8",
   "metadata": {},
   "outputs": [
    {
     "data": {
      "text/plain": [
       "Temperature                      0\n",
       "Humidity                         0\n",
       "PM2.5                            0\n",
       "PM10                             0\n",
       "NO2                              0\n",
       "SO2                              0\n",
       "CO                               0\n",
       "Proximity_to_Industrial_Areas    0\n",
       "Population_Density               0\n",
       "Air Quality                      0\n",
       "dtype: int64"
      ]
     },
     "execution_count": 12,
     "metadata": {},
     "output_type": "execute_result"
    }
   ],
   "source": [
    "data.isnull().sum()"
   ]
  },
  {
   "cell_type": "code",
   "execution_count": 13,
   "id": "07617ad5-3578-4dcf-9101-33b0f9d51e70",
   "metadata": {},
   "outputs": [
    {
     "data": {
      "text/html": [
       "<div>\n",
       "<style scoped>\n",
       "    .dataframe tbody tr th:only-of-type {\n",
       "        vertical-align: middle;\n",
       "    }\n",
       "\n",
       "    .dataframe tbody tr th {\n",
       "        vertical-align: top;\n",
       "    }\n",
       "\n",
       "    .dataframe thead th {\n",
       "        text-align: right;\n",
       "    }\n",
       "</style>\n",
       "<table border=\"1\" class=\"dataframe\">\n",
       "  <thead>\n",
       "    <tr style=\"text-align: right;\">\n",
       "      <th></th>\n",
       "      <th>Temperature</th>\n",
       "      <th>Humidity</th>\n",
       "      <th>PM10</th>\n",
       "      <th>SO2</th>\n",
       "      <th>Air Quality</th>\n",
       "    </tr>\n",
       "  </thead>\n",
       "  <tbody>\n",
       "    <tr>\n",
       "      <th>0</th>\n",
       "      <td>29.8</td>\n",
       "      <td>59.1</td>\n",
       "      <td>17.9</td>\n",
       "      <td>9.2</td>\n",
       "      <td>Moderate</td>\n",
       "    </tr>\n",
       "    <tr>\n",
       "      <th>1</th>\n",
       "      <td>28.3</td>\n",
       "      <td>75.6</td>\n",
       "      <td>12.2</td>\n",
       "      <td>9.7</td>\n",
       "      <td>Moderate</td>\n",
       "    </tr>\n",
       "    <tr>\n",
       "      <th>2</th>\n",
       "      <td>23.1</td>\n",
       "      <td>74.7</td>\n",
       "      <td>33.8</td>\n",
       "      <td>12.6</td>\n",
       "      <td>Moderate</td>\n",
       "    </tr>\n",
       "    <tr>\n",
       "      <th>3</th>\n",
       "      <td>27.1</td>\n",
       "      <td>39.1</td>\n",
       "      <td>6.3</td>\n",
       "      <td>5.3</td>\n",
       "      <td>Good</td>\n",
       "    </tr>\n",
       "    <tr>\n",
       "      <th>4</th>\n",
       "      <td>26.5</td>\n",
       "      <td>70.7</td>\n",
       "      <td>16.0</td>\n",
       "      <td>5.6</td>\n",
       "      <td>Good</td>\n",
       "    </tr>\n",
       "    <tr>\n",
       "      <th>...</th>\n",
       "      <td>...</td>\n",
       "      <td>...</td>\n",
       "      <td>...</td>\n",
       "      <td>...</td>\n",
       "      <td>...</td>\n",
       "    </tr>\n",
       "    <tr>\n",
       "      <th>4995</th>\n",
       "      <td>40.6</td>\n",
       "      <td>74.1</td>\n",
       "      <td>126.7</td>\n",
       "      <td>25.7</td>\n",
       "      <td>Hazardous</td>\n",
       "    </tr>\n",
       "    <tr>\n",
       "      <th>4996</th>\n",
       "      <td>28.1</td>\n",
       "      <td>96.9</td>\n",
       "      <td>25.0</td>\n",
       "      <td>10.8</td>\n",
       "      <td>Moderate</td>\n",
       "    </tr>\n",
       "    <tr>\n",
       "      <th>4997</th>\n",
       "      <td>25.9</td>\n",
       "      <td>78.2</td>\n",
       "      <td>22.1</td>\n",
       "      <td>7.8</td>\n",
       "      <td>Moderate</td>\n",
       "    </tr>\n",
       "    <tr>\n",
       "      <th>4998</th>\n",
       "      <td>25.3</td>\n",
       "      <td>44.4</td>\n",
       "      <td>29.0</td>\n",
       "      <td>5.7</td>\n",
       "      <td>Good</td>\n",
       "    </tr>\n",
       "    <tr>\n",
       "      <th>4999</th>\n",
       "      <td>24.1</td>\n",
       "      <td>77.9</td>\n",
       "      <td>94.3</td>\n",
       "      <td>10.5</td>\n",
       "      <td>Moderate</td>\n",
       "    </tr>\n",
       "  </tbody>\n",
       "</table>\n",
       "<p>5000 rows × 5 columns</p>\n",
       "</div>"
      ],
      "text/plain": [
       "      Temperature  Humidity   PM10   SO2 Air Quality\n",
       "0            29.8      59.1   17.9   9.2    Moderate\n",
       "1            28.3      75.6   12.2   9.7    Moderate\n",
       "2            23.1      74.7   33.8  12.6    Moderate\n",
       "3            27.1      39.1    6.3   5.3        Good\n",
       "4            26.5      70.7   16.0   5.6        Good\n",
       "...           ...       ...    ...   ...         ...\n",
       "4995         40.6      74.1  126.7  25.7   Hazardous\n",
       "4996         28.1      96.9   25.0  10.8    Moderate\n",
       "4997         25.9      78.2   22.1   7.8    Moderate\n",
       "4998         25.3      44.4   29.0   5.7        Good\n",
       "4999         24.1      77.9   94.3  10.5    Moderate\n",
       "\n",
       "[5000 rows x 5 columns]"
      ]
     },
     "execution_count": 13,
     "metadata": {},
     "output_type": "execute_result"
    }
   ],
   "source": [
    "data.drop(columns=[\"PM2.5\",\"NO2\",\"CO\",\"Proximity_to_Industrial_Areas\",\"Population_Density\"],inplace=True)\n",
    "data\n",
    "          "
   ]
  },
  {
   "cell_type": "code",
   "execution_count": 16,
   "id": "82fcf2b2-0cee-438a-a8ed-0badfb1d016f",
   "metadata": {},
   "outputs": [
    {
     "data": {
      "text/plain": [
       "<Axes: ylabel='Frequency'>"
      ]
     },
     "execution_count": 16,
     "metadata": {},
     "output_type": "execute_result"
    },
    {
     "data": {
      "image/png": "[encoded data removed]",
      "text/plain": [
       "<Figure size 640x480 with 1 Axes>"
      ]
     },
     "metadata": {},
     "output_type": "display_data"
    }
   ],
   "source": [
    "data[\"Temperature\"].value_counts().plot(kind=\"hist\")"
   ]
  },
  {
   "cell_type": "code",
   "execution_count": 18,
   "id": "78c4a509-c705-42aa-9e24-e79e35173742",
   "metadata": {},
   "outputs": [
    {
     "data": {
      "text/plain": [
       "<Axes: ylabel='Frequency'>"
      ]
     },
     "execution_count": 18,
     "metadata": {},
     "output_type": "execute_result"
    },
    {
     "data": {
      "image/png": "[encoded data removed]",
      "text/plain": [
       "<Figure size 640x480 with 1 Axes>"
      ]
     },
     "metadata": {},
     "output_type": "display_data"
    }
   ],
   "source": [
    "data[\"Humidity\"].value_counts().plot(kind=\"hist\")"
   ]
  },
  {
   "cell_type": "code",
   "execution_count": 25,
   "id": "2ea08f2d-c8e3-47d5-93f1-527931beb826",
   "metadata": {},
   "outputs": [
    {
     "data": {
      "text/plain": [
       "<Axes: ylabel='Frequency'>"
      ]
     },
     "execution_count": 25,
     "metadata": {},
     "output_type": "execute_result"
    },
    {
     "data": {
      "image/png": "[encoded data removed]",
      "text/plain": [
       "<Figure size 640x480 with 1 Axes>"
      ]
     },
     "metadata": {},
     "output_type": "display_data"
    }
   ],
   "source": [
    "data[\"PM10\"].value_counts().plot(kind=\"hist\")"
   ]
  },
  {
   "cell_type": "code",
   "execution_count": 24,
   "id": "f387406d-e894-45d9-b3a7-cec8d1ddd171",
   "metadata": {},
   "outputs": [
    {
     "data": {
      "text/plain": [
       "<Axes: ylabel='Frequency'>"
      ]
     },
     "execution_count": 24,
     "metadata": {},
     "output_type": "execute_result"
    },
    {
     "data": {
      "image/png": "[encoded data removed]",
      "text/plain": [
       "<Figure size 640x480 with 1 Axes>"
      ]
     },
     "metadata": {},
     "output_type": "display_data"
    }
   ],
   "source": [
    "data[\"SO2\"].value_counts().plot(kind=\"hist\")"
   ]
  },
  {
   "cell_type": "code",
   "execution_count": 26,
   "id": "687ae0d2-5212-44af-9bd6-e6e8ad7369c6",
   "metadata": {},
   "outputs": [
    {
     "data": {
      "text/plain": [
       "<Axes: ylabel='count'>"
      ]
     },
     "execution_count": 26,
     "metadata": {},
     "output_type": "execute_result"
    },
    {
     "data": {
      "image/png": "[encoded data removed]",
      "text/plain": [
       "<Figure size 640x480 with 1 Axes>"
      ]
     },
     "metadata": {},
     "output_type": "display_data"
    }
   ],
   "source": [
    "data[\"Air Quality\"].value_counts().plot(kind=\"pie\")"
   ]
  },
  {
   "cell_type": "code",
   "execution_count": null,
   "id": "27c30af3-95fa-432c-9727-ae7a0f0dea09",
   "metadata": {},
   "outputs": [],
   "source": []
  }
 ],
 "metadata": {
  "kernelspec": {
   "display_name": "Python 3 (ipykernel)",
   "language": "python",
   "name": "python3"
  },
  "language_info": {
   "codemirror_mode": {
    "name": "ipython",
    "version": 3
   },
   "file_extension": ".py",
   "mimetype": "text/x-python",
   "name": "python",
   "nbconvert_exporter": "python",
   "pygments_lexer": "ipython3",
   "version": "3.11.9"
  }
 },
 "nbformat": 4,
 "nbformat_minor": 5
}
